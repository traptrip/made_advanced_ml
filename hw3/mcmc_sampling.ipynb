{
 "cells": [
  {
   "cell_type": "code",
   "execution_count": 1,
   "metadata": {},
   "outputs": [],
   "source": [
    "import re\n",
    "import math\n",
    "import random\n",
    "import string\n",
    "from pathlib import Path\n",
    "from collections import Counter\n",
    "import numpy as np\n",
    "from tqdm import tqdm\n",
    "import matplotlib.pyplot as plt"
   ]
  },
  {
   "cell_type": "code",
   "execution_count": 2,
   "metadata": {},
   "outputs": [],
   "source": [
    "DATA_PATH = Path(\"../data\")\n",
    "ABC_ENG = \" \" + string.ascii_lowercase\n",
    "ABC_RU = \"\".join([\" \"] + [chr(i) for i in range(1072, 1104)])\n",
    "\n",
    "text_ru = (\n",
    "    (DATA_PATH / \"AnnaKarenina.txt\").read_text(\"utf-8\").lower() + \n",
    "    (DATA_PATH / \"WarAndPeace.txt\").read_text(\"utf-8\").lower()\n",
    ")\n",
    "text_eng = (DATA_PATH / \"WarAndPeaceEng.txt\").read_text(\"utf-8\").lower()\n",
    "\n",
    "text_ru = re.sub(\"\\s+\", \" \", \"\".join(filter(lambda x: x in ABC_RU, text_ru)))\n",
    "text_eng = re.sub(\"\\s+\", \" \", \"\".join(filter(lambda x: x in ABC_ENG, text_eng)))"
   ]
  },
  {
   "cell_type": "code",
   "execution_count": 3,
   "metadata": {},
   "outputs": [
    {
     "data": {
      "text/plain": [
       "'the project gutenberg ebook of war and peace by leo tolstoythis ebook is for the use of anyone anywhere at no cost and with almostno restrictions whatsoever you may copy it give it away or reuse itunder the terms of the project gutenberg license included with thisebook or online at wwwgutenbergorgtitle war and peaceauthor leo tolstoytranslators louise and aylmer maudeposting date january ebook last updated march language english start of this project gutenberg ebook war and peace an anonymous volunteer and david widgerwar and peaceby leo tolstoytolstoicontentsbook one chapter ichapter iichapter iiichapter ivchapter vchapter vichapter viichapter viiichapter ixchapter xchapter xichapter xiichapter xiiichapter xivchapter xvchapter xvichapter xviichapter xviiichapter xixchapter xxchapter xxichapter xxiichapter xxiiichapter xxivchapter xxvchapter xxvichapter xxviichapter xxviiibook two chapter ichapter iichapter iiichapter ivchapter vchapter vichapter viichapter viiichapter ixchapter xchapt'"
      ]
     },
     "execution_count": 3,
     "metadata": {},
     "output_type": "execute_result"
    }
   ],
   "source": [
    "text_eng[:1000]"
   ]
  },
  {
   "cell_type": "code",
   "execution_count": 4,
   "metadata": {},
   "outputs": [
    {
     "data": {
      "text/plain": [
       "(2330472, 3046439)"
      ]
     },
     "execution_count": 4,
     "metadata": {},
     "output_type": "execute_result"
    }
   ],
   "source": [
    "len(text_ru), len(text_eng)"
   ]
  },
  {
   "cell_type": "markdown",
   "metadata": {},
   "source": [
    "# Task 1\n",
    "Реализуйте базовый частотный метод по Шерлоку Холмсу:\n",
    "- подсчитайте частоты букв по корпусам (пунктуацию и капитализацию можно просто опустить, а вот пробелы лучше оставить);\n",
    "- возьмите какие-нибудь тестовые тексты (нужно взять по меньшей мере 2-3 предложения, иначе вряд ли сработает), зашифруйте их посредством случайной перестановки символов;\n",
    "- расшифруйте их таким частотным методом.\n"
   ]
  },
  {
   "cell_type": "code",
   "execution_count": 5,
   "metadata": {},
   "outputs": [],
   "source": [
    "def get_substring(txt, n_chars=1000):\n",
    "    start = random.randint(0, len(txt) - n_chars + 1)\n",
    "    end = start + n_chars\n",
    "    substring = txt[start:end]\n",
    "    return substring\n",
    "\n",
    "\n",
    "def evaluate(true_txt, decoded_txt):\n",
    "    predicted = 0\n",
    "    for c1, c2 in zip(true_txt, decoded_txt):\n",
    "        if c1 == c2:\n",
    "            predicted += 1\n",
    "    return predicted / len(true_txt)\n",
    "\n",
    "\n",
    "def shuffle_encode(txt, alphabet):\n",
    "    shuffled_alphabet = list(alphabet)\n",
    "    random.shuffle(shuffled_alphabet)\n",
    "    shuffled_alphabet = \"\".join(shuffled_alphabet)\n",
    "    abc_map = dict(zip(alphabet, shuffled_alphabet))\n",
    "    shuffled_txt = \"\"\n",
    "    for c in txt:\n",
    "        shuffled_txt += abc_map[c]\n",
    "    return shuffled_txt\n",
    "\n",
    "\n",
    "def freq_decode(encoded_txt, chars_counter):\n",
    "    chars_map = dict(zip(\n",
    "        map(lambda x: x[0], Counter(encoded_txt).most_common()), \n",
    "        map(lambda x: x[0], chars_counter.most_common())\n",
    "    ))\n",
    "    return \"\".join([chars_map[c] for c in encoded_txt])\n",
    "    "
   ]
  },
  {
   "cell_type": "code",
   "execution_count": 6,
   "metadata": {},
   "outputs": [],
   "source": [
    "ru_counter = Counter(text_ru)\n",
    "eng_counter = Counter(text_eng)"
   ]
  },
  {
   "cell_type": "code",
   "execution_count": 7,
   "metadata": {},
   "outputs": [
    {
     "name": "stderr",
     "output_type": "stream",
     "text": [
      "100%|██████████| 7/7 [00:00<00:00, 70.34it/s]\n"
     ]
    },
    {
     "data": {
      "image/png": "[encoded data removed]",
      "text/plain": [
       "<Figure size 432x288 with 1 Axes>"
      ]
     },
     "metadata": {
      "needs_background": "light"
     },
     "output_type": "display_data"
    }
   ],
   "source": [
    "scores_ru, scores_eng = [], []\n",
    "txt_sizes = [100, 500, 1000, 5000, 10000, 50000, 10**5]\n",
    "test_txts = []\n",
    "decoded_txts = []\n",
    "for size in tqdm(txt_sizes):\n",
    "    # English\n",
    "    test_txt = get_substring(text_eng, size)\n",
    "    encoded_txt = shuffle_encode(test_txt, ABC_ENG)\n",
    "    decoded_txt = freq_decode(encoded_txt, eng_counter)\n",
    "    scores_eng.append(evaluate(test_txt, decoded_txt))\n",
    "\n",
    "    # Russian\n",
    "    test_txt = get_substring(text_ru, size)\n",
    "    encoded_txt = shuffle_encode(test_txt, ABC_RU)\n",
    "    decoded_txt = freq_decode(encoded_txt, ru_counter)\n",
    "    scores_ru.append(evaluate(test_txt, decoded_txt))\n",
    "    test_txts.append(test_txt)\n",
    "    decoded_txts.append(decoded_txt)\n",
    "\n",
    "plt.plot(txt_sizes, scores_ru, label=\"RU\")\n",
    "plt.plot(txt_sizes, scores_eng, label=\"ENG\")\n",
    "plt.legend()\n",
    "plt.show()"
   ]
  },
  {
   "cell_type": "code",
   "execution_count": 8,
   "metadata": {},
   "outputs": [
    {
     "name": "stdout",
     "output_type": "stream",
     "text": [
      " сидевшего над большим столом и первые две минуты не обращавшего внимания на вошедшего военный министр опустил свою лысую с седыми висками голову между двух восковых свечей и читал отмечая карандашом бумаги он дочитывал не поднимая головы в то время как отворилась дверь и послышались шаги возьмите это и передайте сказал военный министр своему адъютанту подавая бумаги и не обращая еще внимания на курьеракнязь андрей почувствовал что либо из всех дел занимавших военного министра действия кутузовск\n",
      "\n",
      " сндершего иад ыовбшнм стовом н пелрзе дре мниутз ие оылащаршего ринмаиня иа рошедшего роеиизж мнинстл опустнв срох взсух с седзмн рнскамн говору мейду друю роскорзю сречеж н чнтав отмечая калаидашом ыумагн ои дочнтзрав ие подинмая говорз р то рлемя как отролнвасб дрелб н посвзшавнсб шагн роьбмнте цто н пеледажте скаьав роеиизж мнинстл сроему адъхтаиту подарая ыумагн н ие оылащая еще ринмаиня иа кулбелакияьб аидлеж почурстрорав что вныо нь рсею дев ьаинмаршню роеииого мнинстла дежстрня кутуьорск\n"
     ]
    }
   ],
   "source": [
    "step = 5\n",
    "print(f\"{test_txts[step][:500]}\\n\\n{decoded_txts[step][:500]}\")"
   ]
  },
  {
   "cell_type": "markdown",
   "metadata": {},
   "source": [
    "# Task 2\n",
    "Вряд ли в результате получилась такая уж хорошая расшифровка, разве что если вы брали в качестве тестовых данных целые рассказы. Но и Шерлок Холмс был не так уж прост: после буквы E, которая действительно выделяется частотой, дальше он анализировал уже конкретные слова и пытался угадать, какими они могли бы быть. Я не знаю, как запрограммировать такой интуитивный анализ, так что давайте просто сделаем следующий логический шаг:\n",
    "- подсчитайте частоты биграмм (т.е. пар последовательных букв) по корпусам;\n",
    "- проведите тестирование аналогично п.1, но при помощи биграмм.\n"
   ]
  },
  {
   "cell_type": "code",
   "execution_count": 9,
   "metadata": {},
   "outputs": [],
   "source": [
    "def get_ngrams(txt, n):\n",
    "    result = []\n",
    "    for i in range(len(txt) - n + 1):\n",
    "        result.append(txt[i:i+n])\n",
    "    return result\n",
    "\n",
    "\n",
    "def ngram_decode(encoded_txt, gram_counter, n):\n",
    "    n_gram_encoded_txt = get_ngrams(encoded_txt, n)\n",
    "    chars_map = dict(zip(\n",
    "        map(lambda x: x[0], Counter(n_gram_encoded_txt).most_common()), \n",
    "        map(lambda x: x[0], gram_counter.most_common())\n",
    "    ))\n",
    "    return \"\".join([chars_map[gram] for gram in n_gram_encoded_txt])"
   ]
  },
  {
   "cell_type": "code",
   "execution_count": 10,
   "metadata": {},
   "outputs": [
    {
     "name": "stderr",
     "output_type": "stream",
     "text": [
      "100%|██████████| 9/9 [00:00<00:00, 92.83it/s]\n"
     ]
    },
    {
     "data": {
      "image/png": "[encoded data removed]",
      "text/plain": [
       "<Figure size 432x288 with 1 Axes>"
      ]
     },
     "metadata": {
      "needs_background": "light"
     },
     "output_type": "display_data"
    }
   ],
   "source": [
    "bigram_text_ru_counter = Counter(get_ngrams(text_ru, 2))\n",
    "bigram_text_eng_counter = Counter(get_ngrams(text_eng, 2))\n",
    "\n",
    "\n",
    "scores_ru, scores_eng = [], []\n",
    "txt_sizes = [10, 50, 100, 500, 1000, 5000, 10000, 50000, 10**5]\n",
    "test_txts = []\n",
    "decoded_txts = []\n",
    "for size in tqdm(txt_sizes):\n",
    "    # English\n",
    "    test_txt = get_substring(text_eng, size)\n",
    "    encoded_txt = shuffle_encode(test_txt, ABC_ENG)\n",
    "    decoded_txt = ngram_decode(encoded_txt, bigram_text_eng_counter, 2)\n",
    "    scores_eng.append(evaluate(test_txt, decoded_txt))\n",
    "\n",
    "    # Russian\n",
    "    test_txt = get_substring(text_ru, size)\n",
    "    encoded_txt = shuffle_encode(test_txt, ABC_RU)\n",
    "    decoded_txt = ngram_decode(encoded_txt, bigram_text_ru_counter, 2)\n",
    "    scores_ru.append(evaluate(test_txt, decoded_txt))\n",
    "    test_txts.append(test_txt)\n",
    "    decoded_txts.append(decoded_txt)\n",
    "\n",
    "plt.plot(txt_sizes, scores_ru, label=\"RU\")\n",
    "plt.plot(txt_sizes, scores_eng, label=\"ENG\")\n",
    "plt.legend()\n",
    "plt.show()"
   ]
  },
  {
   "cell_type": "markdown",
   "metadata": {},
   "source": [
    "Получается даже хуже чем в п.1"
   ]
  },
  {
   "cell_type": "markdown",
   "metadata": {},
   "source": [
    "# Task 3\n",
    "Но и это ещё не всё: биграммы скорее всего тоже далеко не всегда работают. Основная часть задания — в том, как можно их улучшить:\n",
    "- предложите метод обучения перестановки символов в этом задании, основанный на MCMC-сэмплировании, но по-прежнему работающий на основе статистики биграмм;\n",
    "- реализуйте и протестируйте его, убедитесь, что результаты улучшились.\n"
   ]
  },
  {
   "cell_type": "code",
   "execution_count": 11,
   "metadata": {},
   "outputs": [],
   "source": [
    "def eval_log_score(new_score, last_score):\n",
    "    diff = new_score - last_score\n",
    "    ratio = np.exp(diff)\n",
    "    return ratio > random.random()\n",
    "\n",
    "\n",
    "def get_ngram_percentage_counter(text, n):\n",
    "    grams_counter = Counter(get_ngrams(text, n))\n",
    "    total = sum(grams_counter.values())\n",
    "    return {x[0]: x[1] / (total + n**10) for x in grams_counter.items()}\n",
    "\n",
    "\n",
    "def get_loglikelihood(decoded_freq, original_freq, n_grams=2):\n",
    "    all_trigram_sum = sum(decoded_freq.values())\n",
    "    score = 0\n",
    "    for key, val in decoded_freq.items():\n",
    "        if key in original_freq:\n",
    "            score += val * np.log(original_freq[key])\n",
    "        else:\n",
    "            score += val * np.log(1 / (all_trigram_sum + n_grams**10))\n",
    "\n",
    "    return score\n",
    "\n",
    "\n",
    "def shuffle_pair(cur_mapping):\n",
    "    a, b = random.sample(list(cur_mapping.keys()), 2)\n",
    "    new_mapping = cur_mapping.copy()\n",
    "    new_mapping[a], new_mapping[b] = new_mapping[b], new_mapping[a]\n",
    "    return new_mapping\n",
    "\n",
    "\n",
    "def mcmc_sampling_decode(encoded_txt, alphabet, original_counter, n_epochs=5, n_iter=10000, n_grams=2):\n",
    "    best_map = None\n",
    "    best_score = -float(\"inf\")\n",
    "    for _ in tqdm(range(n_epochs), total=n_epochs):\n",
    "        char_map = dict(zip(set(encoded_txt), alphabet))\n",
    "        decoded_txt = \"\".join([char_map[c] for c in encoded_txt])\n",
    "        decoded_freq = Counter(get_ngrams(decoded_txt, n_grams))\n",
    "        score = get_loglikelihood(decoded_freq, original_counter, n_grams)\n",
    "        for _ in range(n_iter):\n",
    "            shuffled_char_map = shuffle_pair(char_map)\n",
    "            decoded_txt = \"\".join([shuffled_char_map[c] for c in encoded_txt])\n",
    "            decoded_freq = Counter(get_ngrams(decoded_txt, n_grams))\n",
    "            new_score = get_loglikelihood(decoded_freq, original_counter, n_grams)\n",
    "            if eval_log_score(new_score, score):\n",
    "                char_map = shuffled_char_map\n",
    "                score = new_score\n",
    "        if score > best_score:\n",
    "            best_score = score\n",
    "            best_map = char_map\n",
    "\n",
    "    print(best_map)\n",
    "    decoded_txt = \"\".join([best_map[c] for c in encoded_txt])\n",
    "    return decoded_txt\n",
    "    "
   ]
  },
  {
   "cell_type": "code",
   "execution_count": 12,
   "metadata": {},
   "outputs": [
    {
     "name": "stderr",
     "output_type": "stream",
     "text": [
      "100%|██████████| 10/10 [00:21<00:00,  2.14s/it]"
     ]
    },
    {
     "name": "stdout",
     "output_type": "stream",
     "text": [
      "{'м': 'ь', 'ъ': 'ц', 'у': 'э', 'т': 'з', 'х': 'а', 'я': 'т', 'ж': 'п', 'д': 'й', 'р': ' ', 'е': 'л', 'п': 'ю', 'и': 'ч', 'ы': 'я', 'щ': 'х', 'э': 'р', 'а': 'е', 'к': 'щ', 'з': 'н', ' ': 'с', 'б': 'в', 'ь': 'м', 'н': 'ж', 'л': 'о', 'й': 'д', 'ю': 'ш', 'г': 'к', 'ч': 'и', 'ф': 'ы', 'ц': 'г', 'с': 'у', 'ш': 'б'}\n",
      "\n",
      "True text\n",
      "и с тем некрасивым выражением жертвы чаще всего останавливающемся на ее лице она отдалась во власть и лизы обе женщины заботились совершенно искренно о том чтобы сделать ее красивой она была так дурна что ни одной из них не могла притти мысль о соперничестве с нею поэтому они совершенно искренно с тем наивным и твердым убеждением женщин что наряд может сделать лицо красивым принялись за ее одеванье нет право мой добрый друг это платье нехорошо говорила лиза издалека боком взглядывая на княжну ве\n",
      "\n",
      "Decoded text\n",
      "и с тем некрасивым выражением жертвы чаще всего останавливающемся на ее лице она отдалась во власть и лизы обе женщины заботились совершенно искренно о том чтобы сделать ее красивой она была так дурна что ни одной из них не могла притти мысль о соперничестве с нею поэтому они совершенно искренно с тем наивным и твердым убеждением женщин что наряд может сделать лицо красивым принялись за ее одеванье нет право мой добрый друг это платье нехорошо говорила лиза издалека боком взглядывая на княжну ве\n",
      "\n",
      "Score: 1.0\n"
     ]
    },
    {
     "name": "stderr",
     "output_type": "stream",
     "text": [
      "\n"
     ]
    }
   ],
   "source": [
    "original_ru_bigram_counter = get_ngram_percentage_counter(text_ru, 2)\n",
    "most_common_abc_ru = [key for key, _ in Counter(text_ru).most_common()]\n",
    "\n",
    "txt = get_substring(text_ru, 500)\n",
    "encoded_txt = shuffle_encode(txt, ABC_RU)\n",
    "decoded_txt = mcmc_sampling_decode(encoded_txt, most_common_abc_ru, original_ru_bigram_counter, n_epochs=10)\n",
    "\n",
    "print(\"\\nTrue text\")\n",
    "print(txt)\n",
    "print(\"\\nDecoded text\")\n",
    "print(decoded_txt)\n",
    "print(f\"\\nScore: {evaluate(txt, decoded_txt)}\")"
   ]
  },
  {
   "cell_type": "markdown",
   "metadata": {},
   "source": [
    "# Task 4\n",
    "Расшифруйте сообщение:\n",
    "←⇠⇒↟↹↷⇊↹↷↟↤↟↨←↹↝⇛⇯↳⇴⇒⇈↝⇊↾↹↟⇒↟↹⇷⇛⇞↨↟↹↝⇛⇯↳⇴⇒⇈↝⇊↾↹↨←⇌⇠↨↹⇙↹⇸↨⇛↙⇛↹⇠⇛⇛↲⇆←↝↟↞↹⇌⇛↨⇛⇯⇊↾↹⇒←↙⇌⇛↹⇷⇯⇛⇞↟↨⇴↨⇈↹⇠⇌⇛⇯←←↹↷⇠←↙⇛↹↷⇊↹↷⇠←↹⇠↤←⇒⇴⇒↟↹⇷⇯⇴↷↟⇒⇈↝⇛↹↟↹⇷⇛⇒⇙⇞↟↨←↹↳⇴⇌⇠↟↳⇴⇒⇈↝⇊↾↹↲⇴⇒⇒↹⇰⇴↹⇷⇛⇠⇒←↤↝←←↹⇞←↨↷←⇯↨⇛←↹⇰⇴↤⇴↝↟←↹⇌⇙⇯⇠⇴↹↘⇛↨↞↹⇌⇛↝←⇞↝⇛↹↞↹↝↟⇞←↙⇛↹↝←↹⇛↲←⇆⇴⇏\n",
    "\n",
    "Или это (они одинаковые, второй вариант просто на случай проблем с юникодом):\n",
    "\n",
    "დჳჵჂႨშႼႨშჂხჂჲდႨსႹႭჾႣჵისႼჰႨჂჵჂႨႲႹႧჲჂႨსႹႭჾႣჵისႼჰႨჲდႩჳჲႨჇႨႠჲႹქႹႨჳႹႹჱჶდსჂႽႨႩႹჲႹႭႼჰႨჵდქႩႹႨႲႭႹႧჂჲႣჲიႨჳႩႹႭდდႨშჳდქႹႨშႼႨშჳდႨჳხდჵႣჵჂႨႲႭႣშჂჵისႹႨჂႨႲႹჵჇႧჂჲდႨჾႣႩჳჂჾႣჵისႼჰႨჱႣჵჵႨეႣႨႲႹჳჵდხსდდႨႧდჲშდႭჲႹდႨეႣხႣსჂდႨႩჇႭჳႣႨႾႹჲႽႨႩႹსდႧსႹႨႽႨსჂႧდქႹႨსდႨႹჱდჶႣნ\n"
   ]
  },
  {
   "cell_type": "code",
   "execution_count": 13,
   "metadata": {},
   "outputs": [
    {
     "name": "stderr",
     "output_type": "stream",
     "text": [
      "100%|██████████| 20/20 [00:23<00:00,  1.19s/it]"
     ]
    },
    {
     "name": "stdout",
     "output_type": "stream",
     "text": [
      "{'⇠': 'с', '↞': 'я', '↳': 'з', '↝': 'н', '↘': 'х', '⇏': 'ю', '⇴': 'а', '←': 'е', '⇯': 'р', '↲': 'ж', '⇒': 'л', '↹': ' ', '⇊': 'ы', '↤': 'м', '⇌': 'к', '⇞': 'д', '↟': 'и', '⇸': 'ч', '⇛': 'о', '⇆': 'ш', '⇙': 'у', '↾': 'й', '⇈': 'ь', '↷': 'в', '⇷': 'п', '↨': 'т', '⇰': 'б', '↙': 'г'}\n"
     ]
    },
    {
     "name": "stderr",
     "output_type": "stream",
     "text": [
      "\n"
     ]
    },
    {
     "data": {
      "text/plain": [
       "'если вы вимите норзальный или подти норзальный текст у чтого соожшения который легко продитать скорее всего вы все смелали правильно и полудите заксизальный жалл ба послемнее детвертое бамание курса хотя конедно я нидего не ожешаю'"
      ]
     },
     "execution_count": 13,
     "metadata": {},
     "output_type": "execute_result"
    }
   ],
   "source": [
    "n_grams = 2\n",
    "text2decode = \"←⇠⇒↟↹↷⇊↹↷↟↤↟↨←↹↝⇛⇯↳⇴⇒⇈↝⇊↾↹↟⇒↟↹⇷⇛⇞↨↟↹↝⇛⇯↳⇴⇒⇈↝⇊↾↹↨←⇌⇠↨↹⇙↹⇸↨⇛↙⇛↹⇠⇛⇛↲⇆←↝↟↞↹⇌⇛↨⇛⇯⇊↾↹⇒←↙⇌⇛↹⇷⇯⇛⇞↟↨⇴↨⇈↹⇠⇌⇛⇯←←↹↷⇠←↙⇛↹↷⇊↹↷⇠←↹⇠↤←⇒⇴⇒↟↹⇷⇯⇴↷↟⇒⇈↝⇛↹↟↹⇷⇛⇒⇙⇞↟↨←↹↳⇴⇌⇠↟↳⇴⇒⇈↝⇊↾↹↲⇴⇒⇒↹⇰⇴↹⇷⇛⇠⇒←↤↝←←↹⇞←↨↷←⇯↨⇛←↹⇰⇴↤⇴↝↟←↹⇌⇙⇯⇠⇴↹↘⇛↨↞↹⇌⇛↝←⇞↝⇛↹↞↹↝↟⇞←↙⇛↹↝←↹⇛↲←⇆⇴⇏\"\n",
    "decoded_secret_text = mcmc_sampling_decode(\n",
    "    text2decode, most_common_abc_ru, get_ngram_percentage_counter(text_ru, n_grams), n_epochs=20, n_grams=n_grams\n",
    ")\n",
    "decoded_secret_text"
   ]
  },
  {
   "cell_type": "markdown",
   "metadata": {},
   "source": [
    "если вы видите нормальный или почти нормальный текст у этого сообщения который легко прочитать скорее всего вы все сделали правильно и получите максимальный балл за последнее четвертое задание курса хотя конечно я ничего не обещаю"
   ]
  },
  {
   "cell_type": "markdown",
   "metadata": {},
   "source": [
    "# Task 4\n",
    "Бонус: а что если от биграмм перейти к триграммам (тройкам букв) или даже больше? Улучшатся ли результаты? Когда улучшатся, а когда нет? Чтобы ответить на этот вопрос эмпирически, уже может понадобиться погенерировать много тестовых перестановок и последить за метриками, глазами может быть и не видно."
   ]
  },
  {
   "cell_type": "code",
   "execution_count": 14,
   "metadata": {},
   "outputs": [
    {
     "name": "stderr",
     "output_type": "stream",
     "text": [
      "100%|██████████| 5/5 [00:17<00:00,  3.41s/it]"
     ]
    },
    {
     "name": "stdout",
     "output_type": "stream",
     "text": [
      "{'в': 'ю', 'м': 'к', 'ъ': 'в', 'о': 'ф', 'у': 'х', 'т': 'б', 'х': 'р', 'я': ' ', 'ж': 'у', 'д': 'е', 'р': 'я', 'е': 'с', 'п': 'м', 'и': 'ш', 'ы': 'й', 'щ': 'ж', 'э': 'л', 'а': 'п', 'к': 'з', 'з': 'о', 'б': 'а', ' ': 'т', 'ь': 'щ', 'н': 'ь', 'л': 'д', 'ю': 'ы', 'й': 'ъ', 'г': 'г', 'ч': 'ч', 'ф': 'ц', 'ц': 'н', 'с': 'и', 'ш': 'э'}\n",
      "\n",
      "True text\n",
      "вою мать и крутила хвостиком да сюда посвети федор сюда фонарь говорил левин оглядывая телку в мать даром что мастью в отца очень хороша длинна и пашиста василий федорович ведь хороша обращался он к приказчику совершенно примирившись с ним за гречу под влиянием радости за телку в кого же дурной быть а семен рядчик на другой день вашего отъезда пришел надо будет порядиться с ним константин дмитрич сказал приказчик я вам прежде докладывал про машинуодин этот вопрос ввел левина во все подробности х\n",
      "\n",
      "Decoded text\n",
      "вою мать и крутила хвостиком да сюда посвети федор сюда фонарь говорил левин оглядывая телку в мать даром что мастью в отца очень хороша длинна и пашиста василий федорович ведь хороша обращался он к приказчику совершенно примирившись с ним за гречу под влиянием радости за телку в кого же дурной быть а семен рядчик на другой день вашего отъезда пришел надо будет порядиться с ним константин дмитрич сказал приказчик я вам прежде докладывал про машинуодин этот вопрос ввел левина во все подробности х\n",
      "\n",
      "Score: 1.0\n"
     ]
    },
    {
     "name": "stderr",
     "output_type": "stream",
     "text": [
      "\n"
     ]
    }
   ],
   "source": [
    "n_grams = 3\n",
    "txt = get_substring(text_ru, 500)\n",
    "encoded_txt = shuffle_encode(txt, ABC_RU)\n",
    "decoded_txt = mcmc_sampling_decode(\n",
    "    encoded_txt, most_common_abc_ru, get_ngram_percentage_counter(text_ru, n_grams), n_epochs=5, n_grams=n_grams\n",
    ")\n",
    "\n",
    "print(\"\\nTrue text\")\n",
    "print(txt)\n",
    "print(\"\\nDecoded text\")\n",
    "print(decoded_txt)\n",
    "print(f\"\\nScore: {evaluate(txt, decoded_txt)}\")"
   ]
  },
  {
   "cell_type": "code",
   "execution_count": 15,
   "metadata": {},
   "outputs": [
    {
     "name": "stderr",
     "output_type": "stream",
     "text": [
      "100%|██████████| 10/10 [00:16<00:00,  1.66s/it]"
     ]
    },
    {
     "name": "stdout",
     "output_type": "stream",
     "text": [
      "{'⇠': 'с', '↞': 'я', '↳': 'м', '↝': 'н', '↘': 'х', '⇏': 'ю', '⇴': 'а', '←': 'е', '⇯': 'р', '↲': 'б', '⇒': 'л', '↹': ' ', '⇊': 'ы', '↤': 'д', '⇌': 'к', '⇞': 'ч', '↟': 'и', '⇸': 'ш', '⇛': 'о', '⇆': 'ж', '⇙': 'у', '↾': 'й', '⇈': 'ь', '↷': 'в', '⇷': 'п', '↨': 'т', '⇰': 'з', '↙': 'г'}\n"
     ]
    },
    {
     "name": "stderr",
     "output_type": "stream",
     "text": [
      "\n"
     ]
    },
    {
     "data": {
      "text/plain": [
       "'если вы видите нормальный или почти нормальный текст у штого сообжения который легко прочитать скорее всего вы все сделали правильно и получите максимальный балл за последнее четвертое задание курса хотя конечно я ничего не обежаю'"
      ]
     },
     "execution_count": 15,
     "metadata": {},
     "output_type": "execute_result"
    }
   ],
   "source": [
    "n_grams = 3\n",
    "text2decode = \"←⇠⇒↟↹↷⇊↹↷↟↤↟↨←↹↝⇛⇯↳⇴⇒⇈↝⇊↾↹↟⇒↟↹⇷⇛⇞↨↟↹↝⇛⇯↳⇴⇒⇈↝⇊↾↹↨←⇌⇠↨↹⇙↹⇸↨⇛↙⇛↹⇠⇛⇛↲⇆←↝↟↞↹⇌⇛↨⇛⇯⇊↾↹⇒←↙⇌⇛↹⇷⇯⇛⇞↟↨⇴↨⇈↹⇠⇌⇛⇯←←↹↷⇠←↙⇛↹↷⇊↹↷⇠←↹⇠↤←⇒⇴⇒↟↹⇷⇯⇴↷↟⇒⇈↝⇛↹↟↹⇷⇛⇒⇙⇞↟↨←↹↳⇴⇌⇠↟↳⇴⇒⇈↝⇊↾↹↲⇴⇒⇒↹⇰⇴↹⇷⇛⇠⇒←↤↝←←↹⇞←↨↷←⇯↨⇛←↹⇰⇴↤⇴↝↟←↹⇌⇙⇯⇠⇴↹↘⇛↨↞↹⇌⇛↝←⇞↝⇛↹↞↹↝↟⇞←↙⇛↹↝←↹⇛↲←⇆⇴⇏\"\n",
    "decoded_secret_text = mcmc_sampling_decode(\n",
    "    text2decode, most_common_abc_ru, get_ngram_percentage_counter(text_ru, n_grams), n_epochs=10, n_grams=n_grams\n",
    ")\n",
    "decoded_secret_text"
   ]
  },
  {
   "cell_type": "code",
   "execution_count": 16,
   "metadata": {},
   "outputs": [
    {
     "name": "stderr",
     "output_type": "stream",
     "text": [
      "100%|██████████| 10/10 [00:19<00:00,  1.92s/it]"
     ]
    },
    {
     "name": "stdout",
     "output_type": "stream",
     "text": [
      "{'⇠': 'с', '↞': 'г', '↳': 'з', '↝': 'н', '↘': 'ю', '⇏': 'ч', '⇴': 'я', '←': 'а', '⇯': 'в', '↲': 'д', '⇒': 'т', '↹': 'о', '⇊': 'ы', '↤': 'к', '⇌': 'ь', '⇞': 'п', '↟': 'р', '⇸': 'м', '⇛': ' ', '⇆': 'ж', '⇙': 'у', '↾': 'х', '⇈': 'и', '↷': 'б', '⇷': 'й', '↨': 'е', '⇰': 'ш', '↙': 'л'}\n"
     ]
    },
    {
     "name": "stderr",
     "output_type": "stream",
     "text": [
      "\n"
     ]
    },
    {
     "data": {
      "text/plain": [
       "'астробыобркреаон взятиныхортрой перон взятиныхоеаьсеоуоме л ос  джанргоь е выхоталь ойв преяеиось вааобсал обыобсаоскатятройвябртин орой тупреаозяьсрзятиныходяттошяой стакнааопаебаве аошякянраоьувсяою егоь напн огонрпал онао дажяч'"
      ]
     },
     "execution_count": 16,
     "metadata": {},
     "output_type": "execute_result"
    }
   ],
   "source": [
    "n_grams = 4\n",
    "text2decode = \"←⇠⇒↟↹↷⇊↹↷↟↤↟↨←↹↝⇛⇯↳⇴⇒⇈↝⇊↾↹↟⇒↟↹⇷⇛⇞↨↟↹↝⇛⇯↳⇴⇒⇈↝⇊↾↹↨←⇌⇠↨↹⇙↹⇸↨⇛↙⇛↹⇠⇛⇛↲⇆←↝↟↞↹⇌⇛↨⇛⇯⇊↾↹⇒←↙⇌⇛↹⇷⇯⇛⇞↟↨⇴↨⇈↹⇠⇌⇛⇯←←↹↷⇠←↙⇛↹↷⇊↹↷⇠←↹⇠↤←⇒⇴⇒↟↹⇷⇯⇴↷↟⇒⇈↝⇛↹↟↹⇷⇛⇒⇙⇞↟↨←↹↳⇴⇌⇠↟↳⇴⇒⇈↝⇊↾↹↲⇴⇒⇒↹⇰⇴↹⇷⇛⇠⇒←↤↝←←↹⇞←↨↷←⇯↨⇛←↹⇰⇴↤⇴↝↟←↹⇌⇙⇯⇠⇴↹↘⇛↨↞↹⇌⇛↝←⇞↝⇛↹↞↹↝↟⇞←↙⇛↹↝←↹⇛↲←⇆⇴⇏\"\n",
    "decoded_secret_text = mcmc_sampling_decode(\n",
    "    text2decode, most_common_abc_ru, get_ngram_percentage_counter(text_ru, n_grams), n_epochs=10, n_grams=n_grams\n",
    ")\n",
    "decoded_secret_text"
   ]
  },
  {
   "cell_type": "markdown",
   "metadata": {},
   "source": [
    "Для триграмм потребовалось меньшее число прогонов и качество получилось лучше. "
   ]
  },
  {
   "cell_type": "code",
   "execution_count": null,
   "metadata": {},
   "outputs": [],
   "source": []
  }
 ],
 "metadata": {
  "interpreter": {
   "hash": "86c658836fd1cd990cb7feace1b3fb4dfeb93dea87b3a33e91181f6d4506db52"
  },
  "kernelspec": {
   "display_name": "Python 3.9.10 ('made')",
   "language": "python",
   "name": "python3"
  },
  "language_info": {
   "codemirror_mode": {
    "name": "ipython",
    "version": 3
   },
   "file_extension": ".py",
   "mimetype": "text/x-python",
   "name": "python",
   "nbconvert_exporter": "python",
   "pygments_lexer": "ipython3",
   "version": "3.9.10"
  },
  "orig_nbformat": 4
 },
 "nbformat": 4,
 "nbformat_minor": 2
}
