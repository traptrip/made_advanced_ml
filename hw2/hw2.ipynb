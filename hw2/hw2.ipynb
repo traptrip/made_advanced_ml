{
 "cells": [
  {
   "cell_type": "code",
   "execution_count": 118,
   "metadata": {},
   "outputs": [],
   "source": [
    "from datetime import datetime \n",
    "from itertools import chain\n",
    "from pathlib import Path\n",
    "import pandas as pd\n",
    "import numpy as np\n",
    "import matplotlib.pyplot as plt\n",
    "from scipy.stats import spearmanr, kendalltau\n",
    "\n",
    "DATA_PATH = Path(\"../data\")"
   ]
  },
  {
   "cell_type": "markdown",
   "metadata": {},
   "source": [
    "# Task 1\n",
    "Прочитайте и проанализируйте данные, выберите турниры, в которых есть данные о составах команд и повопросных результатах (поле mask в results.pkl).Для унификации предлагаю:\n",
    "- взять в тренировочный набор турниры с dateStart из 2019 года; \n",
    "- в тестовый — турниры с dateStart из 2020 года.\n"
   ]
  },
  {
   "cell_type": "code",
   "execution_count": 119,
   "metadata": {},
   "outputs": [],
   "source": [
    "TRAIN_YEAR = 2019\n",
    "TEST_YEAR = 2020"
   ]
  },
  {
   "cell_type": "code",
   "execution_count": 120,
   "metadata": {},
   "outputs": [],
   "source": [
    "results = pd.read_pickle(DATA_PATH / \"results.pkl\")\n",
    "players = pd.read_pickle(DATA_PATH / \"players.pkl\")\n",
    "tournaments = pd.read_pickle(DATA_PATH / \"tournaments.pkl\")"
   ]
  },
  {
   "cell_type": "code",
   "execution_count": 121,
   "metadata": {},
   "outputs": [],
   "source": [
    "tournaments_df = pd.DataFrame(tournaments).T\n",
    "players_df = pd.DataFrame(players).T"
   ]
  },
  {
   "cell_type": "code",
   "execution_count": 122,
   "metadata": {},
   "outputs": [
    {
     "data": {
      "text/html": [
       "<div>\n",
       "<style scoped>\n",
       "    .dataframe tbody tr th:only-of-type {\n",
       "        vertical-align: middle;\n",
       "    }\n",
       "\n",
       "    .dataframe tbody tr th {\n",
       "        vertical-align: top;\n",
       "    }\n",
       "\n",
       "    .dataframe thead th {\n",
       "        text-align: right;\n",
       "    }\n",
       "</style>\n",
       "<table border=\"1\" class=\"dataframe\">\n",
       "  <thead>\n",
       "    <tr style=\"text-align: right;\">\n",
       "      <th></th>\n",
       "      <th>id</th>\n",
       "      <th>name</th>\n",
       "      <th>dateStart</th>\n",
       "      <th>dateEnd</th>\n",
       "      <th>type</th>\n",
       "      <th>season</th>\n",
       "      <th>orgcommittee</th>\n",
       "      <th>synchData</th>\n",
       "      <th>questionQty</th>\n",
       "      <th>results</th>\n",
       "    </tr>\n",
       "  </thead>\n",
       "  <tbody>\n",
       "    <tr>\n",
       "      <th>4211</th>\n",
       "      <td>4211</td>\n",
       "      <td>Критика способности суждения</td>\n",
       "      <td>2017-06-16T19:00:00+03:00</td>\n",
       "      <td>2017-06-20T19:00:00+03:00</td>\n",
       "      <td>{'id': 3, 'name': 'Синхрон'}</td>\n",
       "      <td>/seasons/50</td>\n",
       "      <td>[{'id': 15875, 'name': 'Сергей', 'patronymic':...</td>\n",
       "      <td>{'dateRequestsAllowedTo': '2017-06-20T23:59:59...</td>\n",
       "      <td>{'1': 13, '2': 13, '3': 13}</td>\n",
       "      <td>[{'team': {'id': 49804, 'name': 'Борский кораб...</td>\n",
       "    </tr>\n",
       "    <tr>\n",
       "      <th>6137</th>\n",
       "      <td>6137</td>\n",
       "      <td>Синхронный кубок МГУ. Первая пара</td>\n",
       "      <td>2019-12-19T00:00:00+03:00</td>\n",
       "      <td>2019-12-25T23:50:00+03:00</td>\n",
       "      <td>{'id': 3, 'name': 'Синхрон'}</td>\n",
       "      <td>/seasons/53</td>\n",
       "      <td>[{'id': 5990, 'name': 'Андрей', 'patronymic': ...</td>\n",
       "      <td>{'dateRequestsAllowedTo': '2019-12-24T12:00:00...</td>\n",
       "      <td>{'1': 12, '2': 12, '3': 12}</td>\n",
       "      <td>[{'team': {'id': 27177, 'name': 'Призраки Коши...</td>\n",
       "    </tr>\n",
       "  </tbody>\n",
       "</table>\n",
       "</div>"
      ],
      "text/plain": [
       "        id                               name                  dateStart  \\\n",
       "4211  4211       Критика способности суждения  2017-06-16T19:00:00+03:00   \n",
       "6137  6137  Синхронный кубок МГУ. Первая пара  2019-12-19T00:00:00+03:00   \n",
       "\n",
       "                        dateEnd                          type       season  \\\n",
       "4211  2017-06-20T19:00:00+03:00  {'id': 3, 'name': 'Синхрон'}  /seasons/50   \n",
       "6137  2019-12-25T23:50:00+03:00  {'id': 3, 'name': 'Синхрон'}  /seasons/53   \n",
       "\n",
       "                                           orgcommittee  \\\n",
       "4211  [{'id': 15875, 'name': 'Сергей', 'patronymic':...   \n",
       "6137  [{'id': 5990, 'name': 'Андрей', 'patronymic': ...   \n",
       "\n",
       "                                              synchData  \\\n",
       "4211  {'dateRequestsAllowedTo': '2017-06-20T23:59:59...   \n",
       "6137  {'dateRequestsAllowedTo': '2019-12-24T12:00:00...   \n",
       "\n",
       "                      questionQty  \\\n",
       "4211  {'1': 13, '2': 13, '3': 13}   \n",
       "6137  {'1': 12, '2': 12, '3': 12}   \n",
       "\n",
       "                                                results  \n",
       "4211  [{'team': {'id': 49804, 'name': 'Борский кораб...  \n",
       "6137  [{'team': {'id': 27177, 'name': 'Призраки Коши...  "
      ]
     },
     "execution_count": 122,
     "metadata": {},
     "output_type": "execute_result"
    }
   ],
   "source": [
    "def get_results(id_):\n",
    "    t_results = results[id_]\n",
    "    valid_t_results = [\n",
    "        team\n",
    "        for team in t_results\n",
    "        if \"mask\" in team and team[\"mask\"] and team[\"teamMembers\"]\n",
    "    ]\n",
    "    if valid_t_results and (len(t_results) == len(valid_t_results)):\n",
    "        return valid_t_results\n",
    "    return None\n",
    "\n",
    "tournaments_df[\"results\"] = tournaments_df.id.apply(get_results)\n",
    "tournaments_df = tournaments_df[~tournaments_df.results.isna()]\n",
    "tournaments_df.sample(2)"
   ]
  },
  {
   "cell_type": "code",
   "execution_count": 123,
   "metadata": {},
   "outputs": [],
   "source": [
    "def get_players_data(tournaments_df):\n",
    "    data = [\n",
    "        (tm[\"player\"][\"id\"], r[\"team\"][\"id\"], tournament[\"id\"], r[\"mask\"], len(r[\"mask\"]), r[\"position\"])\n",
    "        for _, tournament in tournaments_df.iterrows()\n",
    "        for r in tournament.results\n",
    "        for tm in r[\"teamMembers\"]\n",
    "    ]\n",
    "    players_data = pd.DataFrame(\n",
    "        data, \n",
    "        columns=[\"player_id\", \"team_id\", \"tournament_id\", \"mask\", \"questions_total\", \"position\"]\n",
    "    )\n",
    "    return players_data\n",
    "\n",
    "def get_questions(players_df):\n",
    "    questions_nums = []\n",
    "    for l in players_df['questions_total']:\n",
    "        questions_nums.extend(range(1, l + 1))\n",
    "        \n",
    "    questions_df = pd.DataFrame({\n",
    "        'player_id': np.repeat(players_df['player_id'], players_df['questions_total']),\n",
    "        'tournament_id': np.repeat(players_df['tournament_id'], players_df['questions_total']),\n",
    "        'team_id': np.repeat(players_df['team_id'], players_df['questions_total']),\n",
    "        'position': np.repeat(players_df['position'], players_df['questions_total']),\n",
    "        'question_num': questions_nums,\n",
    "        'is_correct': list(chain.from_iterable(players_df['mask']))\n",
    "    })\n",
    "\n",
    "    questions_df = questions_df[~questions_df['is_correct'].isin(['?', 'X'])]\n",
    "    questions_df.loc[:, 'is_correct'] = questions_df['is_correct'].astype(np.int8)\n",
    "    return questions_df"
   ]
  },
  {
   "cell_type": "code",
   "execution_count": 124,
   "metadata": {},
   "outputs": [],
   "source": [
    "tournaments_train = tournaments_df[pd.to_datetime(tournaments_df.dateStart, utc=True).dt.year == TRAIN_YEAR].reset_index(drop=True)\n",
    "tournaments_test = tournaments_df[pd.to_datetime(tournaments_df.dateStart, utc=True).dt.year == TEST_YEAR].reset_index(drop=True)\n",
    "\n",
    "players_train = get_players_data(tournaments_train)\n",
    "players_test = get_players_data(tournaments_test)\n",
    "\n",
    "# filter players (remove players who participate in only one set)\n",
    "players_mask = (players_df.id.isin(players_train.player_id.unique())) & (players_df.id.isin(players_test.player_id.unique()))\n",
    "players_df = players_df.loc[players_mask]\n",
    "players_train = players_train.loc[players_train.player_id.isin(players_df.id)]\n",
    "players_test = players_test.loc[players_test.player_id.isin(players_df.id)]\n",
    "\n",
    "questions_train = get_questions(players_train)\n",
    "questions_test = get_questions(players_test)"
   ]
  },
  {
   "cell_type": "code",
   "execution_count": 125,
   "metadata": {},
   "outputs": [
    {
     "data": {
      "text/html": [
       "<div>\n",
       "<style scoped>\n",
       "    .dataframe tbody tr th:only-of-type {\n",
       "        vertical-align: middle;\n",
       "    }\n",
       "\n",
       "    .dataframe tbody tr th {\n",
       "        vertical-align: top;\n",
       "    }\n",
       "\n",
       "    .dataframe thead th {\n",
       "        text-align: right;\n",
       "    }\n",
       "</style>\n",
       "<table border=\"1\" class=\"dataframe\">\n",
       "  <thead>\n",
       "    <tr style=\"text-align: right;\">\n",
       "      <th></th>\n",
       "      <th>player_id</th>\n",
       "      <th>tournament_id</th>\n",
       "      <th>team_id</th>\n",
       "      <th>position</th>\n",
       "      <th>question_num</th>\n",
       "      <th>is_correct</th>\n",
       "    </tr>\n",
       "  </thead>\n",
       "  <tbody>\n",
       "    <tr>\n",
       "      <th>0</th>\n",
       "      <td>6212</td>\n",
       "      <td>4772</td>\n",
       "      <td>45556</td>\n",
       "      <td>1.0</td>\n",
       "      <td>1</td>\n",
       "      <td>1</td>\n",
       "    </tr>\n",
       "    <tr>\n",
       "      <th>0</th>\n",
       "      <td>6212</td>\n",
       "      <td>4772</td>\n",
       "      <td>45556</td>\n",
       "      <td>1.0</td>\n",
       "      <td>2</td>\n",
       "      <td>1</td>\n",
       "    </tr>\n",
       "    <tr>\n",
       "      <th>0</th>\n",
       "      <td>6212</td>\n",
       "      <td>4772</td>\n",
       "      <td>45556</td>\n",
       "      <td>1.0</td>\n",
       "      <td>3</td>\n",
       "      <td>1</td>\n",
       "    </tr>\n",
       "    <tr>\n",
       "      <th>0</th>\n",
       "      <td>6212</td>\n",
       "      <td>4772</td>\n",
       "      <td>45556</td>\n",
       "      <td>1.0</td>\n",
       "      <td>4</td>\n",
       "      <td>1</td>\n",
       "    </tr>\n",
       "    <tr>\n",
       "      <th>0</th>\n",
       "      <td>6212</td>\n",
       "      <td>4772</td>\n",
       "      <td>45556</td>\n",
       "      <td>1.0</td>\n",
       "      <td>5</td>\n",
       "      <td>1</td>\n",
       "    </tr>\n",
       "    <tr>\n",
       "      <th>...</th>\n",
       "      <td>...</td>\n",
       "      <td>...</td>\n",
       "      <td>...</td>\n",
       "      <td>...</td>\n",
       "      <td>...</td>\n",
       "      <td>...</td>\n",
       "    </tr>\n",
       "    <tr>\n",
       "      <th>377396</th>\n",
       "      <td>104477</td>\n",
       "      <td>6191</td>\n",
       "      <td>50396</td>\n",
       "      <td>14.0</td>\n",
       "      <td>32</td>\n",
       "      <td>0</td>\n",
       "    </tr>\n",
       "    <tr>\n",
       "      <th>377396</th>\n",
       "      <td>104477</td>\n",
       "      <td>6191</td>\n",
       "      <td>50396</td>\n",
       "      <td>14.0</td>\n",
       "      <td>33</td>\n",
       "      <td>0</td>\n",
       "    </tr>\n",
       "    <tr>\n",
       "      <th>377396</th>\n",
       "      <td>104477</td>\n",
       "      <td>6191</td>\n",
       "      <td>50396</td>\n",
       "      <td>14.0</td>\n",
       "      <td>34</td>\n",
       "      <td>1</td>\n",
       "    </tr>\n",
       "    <tr>\n",
       "      <th>377396</th>\n",
       "      <td>104477</td>\n",
       "      <td>6191</td>\n",
       "      <td>50396</td>\n",
       "      <td>14.0</td>\n",
       "      <td>35</td>\n",
       "      <td>0</td>\n",
       "    </tr>\n",
       "    <tr>\n",
       "      <th>377396</th>\n",
       "      <td>104477</td>\n",
       "      <td>6191</td>\n",
       "      <td>50396</td>\n",
       "      <td>14.0</td>\n",
       "      <td>36</td>\n",
       "      <td>0</td>\n",
       "    </tr>\n",
       "  </tbody>\n",
       "</table>\n",
       "<p>12101414 rows × 6 columns</p>\n",
       "</div>"
      ],
      "text/plain": [
       "        player_id  tournament_id  team_id  position  question_num  is_correct\n",
       "0            6212           4772    45556       1.0             1           1\n",
       "0            6212           4772    45556       1.0             2           1\n",
       "0            6212           4772    45556       1.0             3           1\n",
       "0            6212           4772    45556       1.0             4           1\n",
       "0            6212           4772    45556       1.0             5           1\n",
       "...           ...            ...      ...       ...           ...         ...\n",
       "377396     104477           6191    50396      14.0            32           0\n",
       "377396     104477           6191    50396      14.0            33           0\n",
       "377396     104477           6191    50396      14.0            34           1\n",
       "377396     104477           6191    50396      14.0            35           0\n",
       "377396     104477           6191    50396      14.0            36           0\n",
       "\n",
       "[12101414 rows x 6 columns]"
      ]
     },
     "execution_count": 125,
     "metadata": {},
     "output_type": "execute_result"
    }
   ],
   "source": [
    "questions_train"
   ]
  },
  {
   "cell_type": "code",
   "execution_count": 126,
   "metadata": {},
   "outputs": [],
   "source": [
    "questions_train.to_csv(DATA_PATH / \"train_questions_chgk.csv\", index=False)\n",
    "questions_test.to_csv(DATA_PATH / \"test_questions_chgk.csv\", index=False)"
   ]
  },
  {
   "cell_type": "code",
   "execution_count": 127,
   "metadata": {},
   "outputs": [
    {
     "data": {
      "text/plain": [
       "(19376, 19376)"
      ]
     },
     "execution_count": 127,
     "metadata": {},
     "output_type": "execute_result"
    }
   ],
   "source": [
    "questions_train.player_id.nunique(), questions_test.player_id.nunique()"
   ]
  },
  {
   "cell_type": "markdown",
   "metadata": {},
   "source": [
    "# Task 2\n",
    "Постройте baseline-модель на основе линейной или логистической регрессии, которая будет обучать рейтинг-лист игроков. \n",
    "Замечания и подсказки:\n",
    "- повопросные результаты — это фактически результаты броска монетки, и их предсказание скорее всего имеет отношение к бинарной классификации;\n",
    "- в разных турнирах вопросы совсем разного уровня сложности, поэтому модель должна это учитывать; скорее всего, модель должна будет явно обучать не только силу каждого игрока, но и сложность каждого вопроса;\n",
    "- для baseline-модели можно забыть о командах и считать, что повопросные результаты команды просто относятся к каждому из её игроков.\n"
   ]
  },
  {
   "cell_type": "code",
   "execution_count": 128,
   "metadata": {},
   "outputs": [],
   "source": [
    "from sklearn.preprocessing import OneHotEncoder\n",
    "from sklearn.linear_model import LogisticRegression"
   ]
  },
  {
   "cell_type": "code",
   "execution_count": 129,
   "metadata": {},
   "outputs": [],
   "source": [
    "questions_train = pd.read_csv(DATA_PATH / \"train_questions_chgk.csv\")\n",
    "questions_test = pd.read_csv(DATA_PATH / \"test_questions_chgk.csv\")"
   ]
  },
  {
   "cell_type": "code",
   "execution_count": 130,
   "metadata": {},
   "outputs": [],
   "source": [
    "encoder = OneHotEncoder(handle_unknown=\"ignore\")\n",
    "player_ids = sorted(questions_train.player_id.unique())\n",
    "train_data = encoder.fit_transform(questions_train[[\"player_id\", \"tournament_id\", \"question_num\"]])\n",
    "test_data = encoder.transform(questions_test[[\"player_id\", \"tournament_id\", \"question_num\"]])\n",
    "\n",
    "target_train = questions_train[\"is_correct\"].values\n",
    "target_test = questions_test[\"is_correct\"].values"
   ]
  },
  {
   "cell_type": "code",
   "execution_count": 131,
   "metadata": {},
   "outputs": [
    {
     "data": {
      "text/plain": [
       "((12101414, 20526), (3640323, 20526))"
      ]
     },
     "execution_count": 131,
     "metadata": {},
     "output_type": "execute_result"
    }
   ],
   "source": [
    "train_data.shape, test_data.shape"
   ]
  },
  {
   "cell_type": "code",
   "execution_count": 132,
   "metadata": {},
   "outputs": [
    {
     "data": {
      "text/plain": [
       "LogisticRegression(n_jobs=-1, solver='sag')"
      ]
     },
     "execution_count": 132,
     "metadata": {},
     "output_type": "execute_result"
    }
   ],
   "source": [
    "baseline_model = LogisticRegression(solver=\"sag\", n_jobs=-1)\n",
    "baseline_model.fit(train_data, target_train)"
   ]
  },
  {
   "cell_type": "code",
   "execution_count": 133,
   "metadata": {},
   "outputs": [],
   "source": [
    "def get_players_force(player_ids, lr_model):\n",
    "    player_force = {}\n",
    "    for p_id, coef in zip(player_ids, lr_model.coef_.flatten()):\n",
    "        player_force[p_id] = coef\n",
    "    return player_force"
   ]
  },
  {
   "cell_type": "code",
   "execution_count": 134,
   "metadata": {},
   "outputs": [
    {
     "data": {
      "text/html": [
       "<div>\n",
       "<style scoped>\n",
       "    .dataframe tbody tr th:only-of-type {\n",
       "        vertical-align: middle;\n",
       "    }\n",
       "\n",
       "    .dataframe tbody tr th {\n",
       "        vertical-align: top;\n",
       "    }\n",
       "\n",
       "    .dataframe thead th {\n",
       "        text-align: right;\n",
       "    }\n",
       "</style>\n",
       "<table border=\"1\" class=\"dataframe\">\n",
       "  <thead>\n",
       "    <tr style=\"text-align: right;\">\n",
       "      <th></th>\n",
       "      <th>id</th>\n",
       "      <th>name</th>\n",
       "      <th>patronymic</th>\n",
       "      <th>surname</th>\n",
       "      <th>player_force</th>\n",
       "    </tr>\n",
       "  </thead>\n",
       "  <tbody>\n",
       "    <tr>\n",
       "      <th>0</th>\n",
       "      <td>27403</td>\n",
       "      <td>Максим</td>\n",
       "      <td>Михайлович</td>\n",
       "      <td>Руссо</td>\n",
       "      <td>2.585759</td>\n",
       "    </tr>\n",
       "    <tr>\n",
       "      <th>1</th>\n",
       "      <td>4270</td>\n",
       "      <td>Александра</td>\n",
       "      <td>Владимировна</td>\n",
       "      <td>Брутер</td>\n",
       "      <td>2.503009</td>\n",
       "    </tr>\n",
       "    <tr>\n",
       "      <th>2</th>\n",
       "      <td>28751</td>\n",
       "      <td>Иван</td>\n",
       "      <td>Николаевич</td>\n",
       "      <td>Семушин</td>\n",
       "      <td>2.466172</td>\n",
       "    </tr>\n",
       "    <tr>\n",
       "      <th>3</th>\n",
       "      <td>27822</td>\n",
       "      <td>Михаил</td>\n",
       "      <td>Владимирович</td>\n",
       "      <td>Савченков</td>\n",
       "      <td>2.399783</td>\n",
       "    </tr>\n",
       "    <tr>\n",
       "      <th>4</th>\n",
       "      <td>30152</td>\n",
       "      <td>Артём</td>\n",
       "      <td>Сергеевич</td>\n",
       "      <td>Сорожкин</td>\n",
       "      <td>2.347474</td>\n",
       "    </tr>\n",
       "    <tr>\n",
       "      <th>...</th>\n",
       "      <td>...</td>\n",
       "      <td>...</td>\n",
       "      <td>...</td>\n",
       "      <td>...</td>\n",
       "      <td>...</td>\n",
       "    </tr>\n",
       "    <tr>\n",
       "      <th>19371</th>\n",
       "      <td>218966</td>\n",
       "      <td>Михаил</td>\n",
       "      <td>Сергеевич</td>\n",
       "      <td>Мешков</td>\n",
       "      <td>-2.916364</td>\n",
       "    </tr>\n",
       "    <tr>\n",
       "      <th>19372</th>\n",
       "      <td>204714</td>\n",
       "      <td>Иван</td>\n",
       "      <td>Дмитриевич</td>\n",
       "      <td>Зарайский</td>\n",
       "      <td>-3.004244</td>\n",
       "    </tr>\n",
       "    <tr>\n",
       "      <th>19373</th>\n",
       "      <td>213896</td>\n",
       "      <td>Мехрубон</td>\n",
       "      <td>Одилжоювич</td>\n",
       "      <td>Тошматов</td>\n",
       "      <td>-3.037105</td>\n",
       "    </tr>\n",
       "    <tr>\n",
       "      <th>19374</th>\n",
       "      <td>207194</td>\n",
       "      <td>Ксения</td>\n",
       "      <td>Руслановна</td>\n",
       "      <td>Мерзлякова</td>\n",
       "      <td>-3.037113</td>\n",
       "    </tr>\n",
       "    <tr>\n",
       "      <th>19375</th>\n",
       "      <td>213892</td>\n",
       "      <td>Арина</td>\n",
       "      <td>Эдуардовна</td>\n",
       "      <td>Пихтовникова</td>\n",
       "      <td>-3.037151</td>\n",
       "    </tr>\n",
       "  </tbody>\n",
       "</table>\n",
       "<p>19376 rows × 5 columns</p>\n",
       "</div>"
      ],
      "text/plain": [
       "           id        name    patronymic       surname  player_force\n",
       "0       27403      Максим    Михайлович         Руссо      2.585759\n",
       "1        4270  Александра  Владимировна        Брутер      2.503009\n",
       "2       28751        Иван    Николаевич       Семушин      2.466172\n",
       "3       27822      Михаил  Владимирович     Савченков      2.399783\n",
       "4       30152       Артём     Сергеевич      Сорожкин      2.347474\n",
       "...       ...         ...           ...           ...           ...\n",
       "19371  218966      Михаил     Сергеевич        Мешков     -2.916364\n",
       "19372  204714        Иван    Дмитриевич     Зарайский     -3.004244\n",
       "19373  213896    Мехрубон    Одилжоювич      Тошматов     -3.037105\n",
       "19374  207194      Ксения    Руслановна    Мерзлякова     -3.037113\n",
       "19375  213892       Арина    Эдуардовна  Пихтовникова     -3.037151\n",
       "\n",
       "[19376 rows x 5 columns]"
      ]
     },
     "execution_count": 134,
     "metadata": {},
     "output_type": "execute_result"
    }
   ],
   "source": [
    "player_forces = get_players_force(player_ids, baseline_model)\n",
    "players_df.loc[:, \"player_force\"] = players_df.loc[:, \"id\"].map(player_forces)\n",
    "players_df = players_df.sort_values(\"player_force\", ascending=False).reset_index(drop=True)\n",
    "players_df.head(19380)"
   ]
  },
  {
   "cell_type": "markdown",
   "metadata": {},
   "source": [
    "# Task 3\n",
    "Качество рейтинг-системы оценивается качеством предсказаний результатов турниров. Но сами повопросные результаты наши модели предсказывать вряд ли смогут, ведь неизвестно, насколько сложными окажутся вопросы в будущих турнирах; да и не нужны эти предсказания сами по себе. \n",
    "Поэтому:\n",
    "- предложите способ предсказать результаты нового турнира с известными составами, но неизвестными вопросами, в виде ранжирования команд;\n",
    "- в качестве метрики качества на тестовом наборе давайте считать ранговые корреляции Спирмена и Кендалла (их можно взять в пакете scipy) между реальным ранжированием в результатах турнира и предсказанным моделью, усреднённые по тестовому множеству турниров.\n"
   ]
  },
  {
   "cell_type": "code",
   "execution_count": 179,
   "metadata": {},
   "outputs": [
    {
     "name": "stdout",
     "output_type": "stream",
     "text": [
      "Spearman: 0.7893\n",
      "Kendall: 0.6303\n"
     ]
    }
   ],
   "source": [
    "df = questions_test.copy()\n",
    "\n",
    "# predict ranks\n",
    "df[\"team_force\"] = df.player_id.map(player_forces)\n",
    "df = df.groupby([\"tournament_id\", \"team_id\"]).sum().reset_index()\n",
    "df = df[[\"tournament_id\", \"team_id\", \"team_force\"]]\n",
    "df['pred_rank'] = df.groupby(\"tournament_id\")['team_force'].rank(ascending=False)\n",
    "\n",
    "# get true ranks\n",
    "df = df.merge(\n",
    "    questions_test[[\"tournament_id\", \"team_id\", \"position\"]].drop_duplicates(), on=[\"tournament_id\", \"team_id\"]\n",
    ").rename({\"position\": \"true_rank\"}, axis=1)\n",
    "\n",
    "# Count Correlations\n",
    "spearman_corrs = []\n",
    "kendall_corrs = []\n",
    "for tournament_id, g in df.groupby(\"tournament_id\"):\n",
    "    if len(g) == 1:  # tournament_id 6362\n",
    "        continue\n",
    "    spearman_corrs.append(spearmanr(g.true_rank.values, g.pred_rank.values).correlation)\n",
    "    kendall_corrs.append(kendalltau(g.true_rank.values, g.pred_rank.values).correlation)\n",
    "\n",
    "spearman = np.mean(spearman_corrs)\n",
    "kendrall = np.mean(kendall_corrs)\n",
    "\n",
    "print(f\"Spearman: {spearman:.4f}\")\n",
    "print(f\"Kendall: {kendrall:.4f}\")"
   ]
  },
  {
   "cell_type": "code",
   "execution_count": null,
   "metadata": {},
   "outputs": [],
   "source": []
  }
 ],
 "metadata": {
  "interpreter": {
   "hash": "86c658836fd1cd990cb7feace1b3fb4dfeb93dea87b3a33e91181f6d4506db52"
  },
  "kernelspec": {
   "display_name": "Python 3.9.10 ('made')",
   "language": "python",
   "name": "python3"
  },
  "language_info": {
   "codemirror_mode": {
    "name": "ipython",
    "version": 3
   },
   "file_extension": ".py",
   "mimetype": "text/x-python",
   "name": "python",
   "nbconvert_exporter": "python",
   "pygments_lexer": "ipython3",
   "version": "3.9.10"
  },
  "orig_nbformat": 4
 },
 "nbformat": 4,
 "nbformat_minor": 2
}
